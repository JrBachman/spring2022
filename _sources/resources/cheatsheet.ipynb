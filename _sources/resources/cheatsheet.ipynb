{
 "cells": [
  {
   "cell_type": "markdown",
   "id": "4295189d",
   "metadata": {},
   "source": [
    "# Cheatsheet\n",
    "\n",
    "Patterns and examples of how to accomplish frequent tasks. We will build up\n",
    "this section together over the course of the semester. \n",
    "\n",
    "\n",
    "## Basic Bash file operations\n",
    "\n",
    "Delete an empty directory:\n",
    "```\n",
    "rmdir directory\n",
    "```\n",
    "\n",
    "Since you can't delete a directory with files in it you need to recursively delete the folder and its contents. The ```-R``` is a recursive declaration which tells the terminal to delete the folder, the files within the folder, subfolders, files in the subfolder etc. [Source](https://www.macworld.com/article/222596/command-line-deleting-files-folders-mac-terminal.html)\n",
    "\n",
    "Delete everything in a directory without confirmation:\n",
    "```\n",
    "rm -R directory\n",
    "```\n",
    "The ```-i``` is a flag that prompts you if you want to remove each separate file in the directory.\n",
    "\n",
    "Delete everything in a directory with confirmation:\n",
    "```\n",
    "rm -iR directory\n",
    "```\n",
    "\n",
    "List the contents of the directory:\n",
    "```\n",
    "ls\n",
    "```\n",
    "\n",
    "## Wildcard / Kleene star\n",
    "\n",
    "The wildcard character in bash `*` works by expanding in place to separate arguments that match whatever pattern you're writing. \n",
    "\n",
    "Example, given a directory `stuff/`:\n",
    "```\n",
    "stuff/\n",
    "  a.py\n",
    "  b.py\n",
    "  c.py\n",
    "  other.txt\n",
    "  another.md\n",
    "  nested_folder/\n",
    "```\n",
    "If we were to run `ls *.py` while in the `stuff/` directory, the command actually run by the computer is `ls a.py b.py c.py`. This also works for commands like `mv`. I.e. `mv *.py nested_folder/` runs `mv a.py b.py c.py nested_folder/`"
   ]
  }
 ],
 "metadata": {
  "jupytext": {
   "text_representation": {
    "extension": ".md",
    "format_name": "myst",
    "format_version": 0.13,
    "jupytext_version": "1.10.0"
   }
  },
  "kernelspec": {
   "display_name": "Python 3",
   "language": "python",
   "name": "python3"
  },
  "language_info": {
   "codemirror_mode": {
    "name": "ipython",
    "version": 3
   },
   "file_extension": ".py",
   "mimetype": "text/x-python",
   "name": "python",
   "nbconvert_exporter": "python",
   "pygments_lexer": "ipython3",
   "version": "3.7.12"
  },
  "source_map": [
   12
  ]
 },
 "nbformat": 4,
 "nbformat_minor": 5
}