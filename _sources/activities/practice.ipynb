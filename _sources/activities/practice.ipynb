{
 "cells": [
  {
   "cell_type": "markdown",
   "id": "06bdc2cc",
   "metadata": {},
   "source": [
    "# More Practice\n",
    "\n",
    "```{note}\n",
    "these are listed byt the date they were *posted*\n",
    "```"
   ]
  },
  {
   "cell_type": "code",
   "execution_count": 1,
   "id": "c11b633b",
   "metadata": {
    "tags": [
     "hide-input"
    ]
   },
   "outputs": [],
   "source": [
    "import os\n",
    "from IPython.display import Markdown, display\n",
    "\n",
    "prep_file_list = sorted(os.listdir('../_practice/'))\n"
   ]
  },
  {
   "cell_type": "code",
   "execution_count": 2,
   "id": "d29055bf",
   "metadata": {
    "tags": [
     "hide-input"
    ]
   },
   "outputs": [
    {
     "data": {
      "text/markdown": [
       "[2022-01-27](../notes/2022-01-27)"
      ],
      "text/plain": [
       "<IPython.core.display.Markdown object>"
      ]
     },
     "metadata": {},
     "output_type": "display_data"
    },
    {
     "data": {
      "text/markdown": [
       "\n",
       "- (optional) try mapping out using [mermaid](https://mermaid-js.github.io/mermaid/#/) syntax, we'll be using other tools that will faciltate rendering later, or try getting it to render on your own.\n",
       "- (optional) read chapter 1 [the programmmer's brain](https://www.manning.com/books/the-programmers-brain#toc). Some of the ideas we talked about today are mentioned there, and it relates to where you're suppoed to be looking for things that you have done, but didn't really understand.\n",
       "- try adding something to this page or the glossary of the course site or link\n",
       "a glossary term to an occurence of it on the site.\n"
      ],
      "text/plain": [
       "<IPython.core.display.Markdown object>"
      ]
     },
     "metadata": {},
     "output_type": "display_data"
    },
    {
     "data": {
      "text/markdown": [
       "[2022-02-01](../notes/2022-02-01)"
      ],
      "text/plain": [
       "<IPython.core.display.Markdown object>"
      ]
     },
     "metadata": {},
     "output_type": "display_data"
    },
    {
     "data": {
      "text/markdown": [
       "1. Find the \"Try it yourself\" boxes in these notes, try them and add notes/ responses under a `## More Practice` heading in your `gitoffline.md` file of your KWL repo.\n",
       "1. Download the course site repo via terminal.\n",
       "1. Explore the difference between `git add` and `git commit` try committing and pushing without adding, then add and push without committing.  Describe what happens in each case in your `gitoffline.md`\n"
      ],
      "text/plain": [
       "<IPython.core.display.Markdown object>"
      ]
     },
     "metadata": {},
     "output_type": "display_data"
    },
    {
     "data": {
      "text/markdown": [
       "[2022-02-03](../notes/2022-02-03)"
      ],
      "text/plain": [
       "<IPython.core.display.Markdown object>"
      ]
     },
     "metadata": {},
     "output_type": "display_data"
    },
    {
     "data": {
      "text/markdown": [
       "1. Try to do as many things as possible on the terminal for a whole week.\n",
       "1. Make yourself a bash cheatsheet (and/or contribute to one on the course site)\n",
       "1. Read through part 1 of [the programmer's brain](https://www.manning.com/books/the-programmers-brain) and try the exercises, especially in chapter 4.\n"
      ],
      "text/plain": [
       "<IPython.core.display.Markdown object>"
      ]
     },
     "metadata": {},
     "output_type": "display_data"
    },
    {
     "data": {
      "text/markdown": [
       "[2022-02-08](../notes/2022-02-08)"
      ],
      "text/plain": [
       "<IPython.core.display.Markdown object>"
      ]
     },
     "metadata": {},
     "output_type": "display_data"
    },
    {
     "data": {
      "text/markdown": [
       "\n",
       "1. Once your PRs in your KWL are merged so that main and feedback match, pull to updates your local copy. In a new terminal window, navigate there and then move the your KWL chart to a file called `chart.md`. Create a new README files with a list of all the files in your repo. Use `history N` (N is the number of past commands that history will return) and redirects to write the steps you took to `reorg.md`. Review that file to make sure it doesn't have extra steps in it and remove any if needed using nano then commit that file to your repo.\n",
       "1. find a place where there is a comment in the course notes indicating content to add and submit a PR adding that content. This could be today's notes or a past day's.\n",
       "1. Add a new file to your KWL repo called `stdinouterr.md` Try the following one at a time in your terminal and describe what happens and explain why or list questions for each in the file. What tips/reminders would you give a new user  (or yourself) about using redirects and `echo`?\n",
       "    - `echo \"hello world\" > fa > fb`\n",
       "    - `echo \"a test\" > fc fd`\n",
       "    - `> fe echo \"hi there\"`\n",
       "    - `echo \"hello \" > ff world`\n",
       "    - `<ff echo hello`\n",
       "    - `fa < echo hello there`\n",
       "    - `cat`\n"
      ],
      "text/plain": [
       "<IPython.core.display.Markdown object>"
      ]
     },
     "metadata": {},
     "output_type": "display_data"
    },
    {
     "data": {
      "text/markdown": [
       "[2022-02-10](../notes/2022-02-10)"
      ],
      "text/plain": [
       "<IPython.core.display.Markdown object>"
      ]
     },
     "metadata": {},
     "output_type": "display_data"
    },
    {
     "data": {
      "text/markdown": [
       "1. Complete the `Try it Yourself` blocks above in your `hardwaresurvey.md`.\n",
       "1. Expand on your update to `abstraction.md`: Can you reconcile different ways you have seen memory before?\n"
      ],
      "text/plain": [
       "<IPython.core.display.Markdown object>"
      ]
     },
     "metadata": {},
     "output_type": "display_data"
    },
    {
     "data": {
      "text/markdown": [
       "[2022-02-15](../notes/2022-02-15)"
      ],
      "text/plain": [
       "<IPython.core.display.Markdown object>"
      ]
     },
     "metadata": {},
     "output_type": "display_data"
    },
    {
     "data": {
      "text/markdown": [
       "\n",
       "1. <i class=\"fa-solid fa-star\"></i> Read about different workflows in git and add responses to the below in a `workflows.md` in your kwl repo. [Git Book](https://git-scm.com/book/en/v2/Distributed-Git-Distributed-Workflows#ch05-distributed-git) [atlassian Docs](https://www.atlassian.com/git/tutorials/comparing-workflows)\n",
       "1. Contribute either a glossary term, cheatsheet item, additional resource/reference, or history sidebar to the course website.\n",
       "\n",
       "\n",
       "\n",
       "```\n",
       "## Workflow Reflection\n",
       "\n",
       "1. What advantages might it provide that git can be used with different workflows?\n",
       "1. Which workflow do you think you would like to work with best and why?\n",
       "1. Describe a scenario that might make it better for the whole team to use a workflow other than the one you prefer.  \n",
       "```\n"
      ],
      "text/plain": [
       "<IPython.core.display.Markdown object>"
      ]
     },
     "metadata": {},
     "output_type": "display_data"
    },
    {
     "data": {
      "text/markdown": [
       "[2022-02-17](../notes/2022-02-17)"
      ],
      "text/plain": [
       "<IPython.core.display.Markdown object>"
      ]
     },
     "metadata": {},
     "output_type": "display_data"
    },
    {
     "data": {
      "text/markdown": [
       "1. Add to your `gitplumbing.md`  file explanations of the main git operations we have seen (add, commit, push) in your own words in a way that will either help you remember or behow you would explain it to someone else at a high level. This might be analogies or explanations using other progrmaming concepts or concepts from a hobby. Add this under a subheading `##` with a descriptive title (for example \"Git In terms of <hobyb>\")\n",
       "1. For one thing your understanding changed or an open question you, look up or experiment to find the answer\n"
      ],
      "text/plain": [
       "<IPython.core.display.Markdown object>"
      ]
     },
     "metadata": {},
     "output_type": "display_data"
    },
    {
     "data": {
      "text/markdown": [
       "[2022-02-22](../notes/2022-02-22)"
      ],
      "text/plain": [
       "<IPython.core.display.Markdown object>"
      ]
     },
     "metadata": {},
     "output_type": "display_data"
    },
    {
     "data": {
      "text/markdown": [
       "1.  Read more about git's change from SHA-1 to SHA-256 and reflect on what you learned (questions provided)\n",
       "1. (priority) In a language of your choice or pseudocode, write a short program to convert, without using libraries, between all pairs of (binary, decimal, hexidecimal) in `numbers.md`. Test your code, but include in the markdown file enclosed in three backticks so that it is a \"code block\" write the name of the language after the ticks like: \n",
       "\n",
       "````\n",
       "```python\n",
       "# python code\n",
       "```\n",
       "````\n"
      ],
      "text/plain": [
       "<IPython.core.display.Markdown object>"
      ]
     },
     "metadata": {},
     "output_type": "display_data"
    },
    {
     "data": {
      "text/markdown": [
       "[2022-02-24](../notes/2022-02-24)"
      ],
      "text/plain": [
       "<IPython.core.display.Markdown object>"
      ]
     },
     "metadata": {},
     "output_type": "display_data"
    },
    {
     "data": {
      "text/markdown": [
       "1. Find an open source repository and look at the .gitignore file. In `donotcommit.md` reflect on what types of content typically get ignored and why you think they are ignored.  If you can't figure out why, try to look it up.\n",
       "1. Create a second git story for the other type form your first (code mistake or git mistake) in `gitstory2.md`\n",
       "1. add something to the glossary, cheatsheet or a history sidebar to the notes. \n"
      ],
      "text/plain": [
       "<IPython.core.display.Markdown object>"
      ]
     },
     "metadata": {},
     "output_type": "display_data"
    },
    {
     "data": {
      "text/markdown": [
       "[2022-03-01](../notes/2022-03-01)"
      ],
      "text/plain": [
       "<IPython.core.display.Markdown object>"
      ]
     },
     "metadata": {},
     "output_type": "display_data"
    },
    {
     "data": {
      "text/markdown": [
       "1. build your kwl repo to a pdf or one other format locally.\n",
       "1. Add `templating.md` to your KWL repo and explain templating in your own words using other programming concepts you have learned so far.  Include in a markdown (same as HTML `<!-- comment -->` ) comment the list of CSC courses you have taken for context while we give you feedback.\n",
       "1. Learn about the documentation ecosystem in another language that you know. In `docs.md` include a summary of your findings and compare and contrast it to jupyter book/sphinx.  \n"
      ],
      "text/plain": [
       "<IPython.core.display.Markdown object>"
      ]
     },
     "metadata": {},
     "output_type": "display_data"
    },
    {
     "data": {
      "text/markdown": [
       "[2022-03-03](../notes/2022-03-03)"
      ],
      "text/plain": [
       "<IPython.core.display.Markdown object>"
      ]
     },
     "metadata": {},
     "output_type": "display_data"
    },
    {
     "data": {
      "text/markdown": [
       "1. **priority** add or link a glossary or cheatsheet, OR add a box with some historical context or extra reading links to the notes from any past class (in order to practice git/github and using jupyter book features, which are similar to other documentation tools, so even if you do not work in a python centric environment the concepts will translate)\n"
      ],
      "text/plain": [
       "<IPython.core.display.Markdown object>"
      ]
     },
     "metadata": {},
     "output_type": "display_data"
    },
    {
     "data": {
      "text/markdown": [
       "[2022-03-08](../notes/2022-03-08)"
      ],
      "text/plain": [
       "<IPython.core.display.Markdown object>"
      ]
     },
     "metadata": {},
     "output_type": "display_data"
    },
    {
     "data": {
      "text/markdown": [
       "1. **priority** write a script that outputs the first 3 lines of each `.fastq` line and sbatch script that runs it and saves the output to files and e-mails you when it is done. Submit the job. (to reinforce /practice what we saw in class)\n",
       "1. File permissions are represented numerically often in octal, by transforming the permissions for each level (owner, group, all) as binary into a number. Add `octal.md` to your KWL repo and answer the following. Try to think through it on your own, but you may look up the answers, as long as you link to (or ideally cite using jupyterbook citations) a high quality source.\n",
       "\n",
       "    ```\n",
       "    1. Transform the permissions [`r--`, `rw-`, `rwx`] to octal, by treating it as three bits.\n",
       "    1. Transform the permission we changed our script to `rwxr-xr-x` to octal.\n",
       "    1. Which of the following would prevent a file from being edited by other people 777 or 755? \n",
       "    ```\n",
       "1. Answer the following in `hpc.md` of your KWL repo:  (to think about how the design of the system we used in class impacts programming and connect it to other ideas taught in CS)\n",
       "\n",
       "    ```\n",
       "    1. What kinds of things would your code need to do if you were going to run it on an HPC system?\n",
       "    1. What Sbatch options seem the most helpful?\n",
       "    1. How might you go about setting the time limits for a script? How could you estimate how long it will take?\n",
       "    ```\n"
      ],
      "text/plain": [
       "<IPython.core.display.Markdown object>"
      ]
     },
     "metadata": {},
     "output_type": "display_data"
    },
    {
     "data": {
      "text/markdown": [
       "[2022-03-10](../notes/2022-03-10)"
      ],
      "text/plain": [
       "<IPython.core.display.Markdown object>"
      ]
     },
     "metadata": {},
     "output_type": "display_data"
    },
    {
     "data": {
      "text/markdown": [
       "1. **optional** Configure ssh keys to your [GitHub account](https://docs.github.com/en/authentication/connecting-to-github-with-ssh/adding-a-new-ssh-key-to-your-github-account) (this is actually GitHub's preferred terminal authentication method)\n"
      ],
      "text/plain": [
       "<IPython.core.display.Markdown object>"
      ]
     },
     "metadata": {},
     "output_type": "display_data"
    }
   ],
   "source": [
    "for prep_file in prep_file_list:\n",
    "    date_str = prep_file[:-3]\n",
    "    date_link = '[' + date_str + '](../notes/' + date_str + ')'\n",
    "    display(Markdown(date_link))\n",
    "    display(Markdown('../_practice/' + prep_file))"
   ]
  }
 ],
 "metadata": {
  "jupytext": {
   "text_representation": {
    "extension": ".md",
    "format_name": "myst",
    "format_version": 0.13,
    "jupytext_version": "1.10.3"
   }
  },
  "kernelspec": {
   "display_name": "Python 3",
   "language": "python",
   "name": "python3"
  },
  "language_info": {
   "codemirror_mode": {
    "name": "ipython",
    "version": 3
   },
   "file_extension": ".py",
   "mimetype": "text/x-python",
   "name": "python",
   "nbconvert_exporter": "python",
   "pygments_lexer": "ipython3",
   "version": "3.8.12"
  },
  "source_map": [
   12,
   20,
   30
  ]
 },
 "nbformat": 4,
 "nbformat_minor": 5
}