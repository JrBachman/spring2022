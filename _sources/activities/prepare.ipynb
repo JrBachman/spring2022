{
 "cells": [
  {
   "cell_type": "markdown",
   "id": "b4b0915e",
   "metadata": {},
   "source": [
    "# Prepare for the next class\n",
    "\n",
    "```{warning}\n",
    "these are listed byt the date they were *posted* (eg the content here under Feb 1, was posted Feb 1, and shoudl be done before the Feb 3 class)\n",
    "\n",
    "*below* refers to followingin the notes\n",
    "```"
   ]
  },
  {
   "cell_type": "code",
   "execution_count": 1,
   "id": "9f2b1794",
   "metadata": {
    "tags": [
     "hide-input"
    ]
   },
   "outputs": [],
   "source": [
    "import os\n",
    "from IPython.display import Markdown, display\n",
    "\n",
    "prep_file_list = sorted(os.listdir('../_prepare/'))\n"
   ]
  },
  {
   "cell_type": "code",
   "execution_count": 2,
   "id": "69e430e7",
   "metadata": {
    "tags": [
     "hide-input"
    ]
   },
   "outputs": [
    {
     "data": {
      "text/markdown": [
       "[2022-01-25](../notes/2022-01-25)"
      ],
      "text/plain": [
       "<IPython.core.display.Markdown object>"
      ]
     },
     "metadata": {},
     "output_type": "display_data"
    },
    {
     "data": {
      "text/markdown": [
       "\n",
       "- More practice with [GitHub terminology](https://classroom.github.com/a/wHq_HF4g). Accept this assignment, read through it, and follow the instructions at the end.\n",
       "- Review these notes, bring any questions you have to class\n",
       "- Read the syllabus, explore this whole [website](https://introcompsys.github.io/spring2022/). Bring questions about the course. Be prepared for a scavenger hunt that asks you not to recall every fact about the course, but to know where to find informatio.\n",
       "- Think about one thing you've learned really well (computing or not) and how do you know that you know it?  (bring your example)\n"
      ],
      "text/plain": [
       "<IPython.core.display.Markdown object>"
      ]
     },
     "metadata": {},
     "output_type": "display_data"
    },
    {
     "data": {
      "text/markdown": [
       "[2022-01-27](../notes/2022-01-27)"
      ],
      "text/plain": [
       "<IPython.core.display.Markdown object>"
      ]
     },
     "metadata": {},
     "output_type": "display_data"
    },
    {
     "data": {
      "text/markdown": [
       "\n",
       "1. Review these notes, both rendered as html and the raw markdown in the repository.\n",
       "1. find 2-3 examples of things in programming you have got working, but did not really understand. this could be errors you fixed, or something you just know you're supposed to do, but not why\n",
       "1. map out your computing knowledge and add it to your kwl chart repo. this can be an image that you upload or a text-based outline.\n",
       "1. Make sure you have a working environment for next week. Use slack to ask for help.\n",
       "    - check that you have Python installed with Jupyter, ideally with [Anaconda](https://docs.anaconda.com/anaconda/install/index.html)\n",
       "    - install [jupyter book](https://jupyterbook.org/start/overview.html#install-jupyter-book)\n",
       "    - install [GitBash](https://gitforwindows.org/) on windows (optional for others)\n",
       "    - make sure you have Xcode on MacOS\n",
       "    - install [the GitHub CLI](https://github.com/cli/cli#installation) on all OSs\n"
      ],
      "text/plain": [
       "<IPython.core.display.Markdown object>"
      ]
     },
     "metadata": {},
     "output_type": "display_data"
    },
    {
     "data": {
      "text/markdown": [
       "[2022-02-01](../notes/2022-02-01)"
      ],
      "text/plain": [
       "<IPython.core.display.Markdown object>"
      ]
     },
     "metadata": {},
     "output_type": "display_data"
    },
    {
     "data": {
      "text/markdown": [
       "1. Complete the classmate issue in your in-class repository.\n",
       "1. read the notes PR, add or comment on a tip, resource, a bit of history in a sidebar or additional end of class question\n",
       "1. try using git in your IDE of choice, log any challenges you have on the practice repo (`github-in-class-username`), and tag @sp22instructors on GitHub. You can use either repo we have made in class, or one for an assignment in another course.\n",
       "1. using your terminal, download your KWL repo and update your 'learned' column on a new branch\n",
       "1. answer the questions below in a new markdown file, `gitoffline.md` in your KWL on your new branch and push the changes to GitHub\n",
       "1. Create a PR from your new branch to main **do not merge this until instructed**\n",
       "1. add your programming challenge(s) you have had as issues to [our private repo](https://github.com/introcompsys/sp22community) or to the course website repo if you like. Put one 'challenge/question' per issue so that we can close them as addressed. See last class notes for prompt.\n",
       "1. Create or comment on a discussion thread in the [private repo](https://github.com/introcompsys/sp22community) about the part of CS/ type of programming you like best/what you want to do post graduation.\n"
      ],
      "text/plain": [
       "<IPython.core.display.Markdown object>"
      ]
     },
     "metadata": {},
     "output_type": "display_data"
    },
    {
     "data": {
      "text/markdown": [
       "[2022-02-03](../notes/2022-02-03)"
      ],
      "text/plain": [
       "<IPython.core.display.Markdown object>"
      ]
     },
     "metadata": {},
     "output_type": "display_data"
    },
    {
     "data": {
      "text/markdown": [
       "1. Review the notes\n",
       "1. Reorganize a folder on your computer ( good candidate may be  desktop or downloads folder), using only a terminal to make new directories, move files, check what's inside them, etc. Answer reflection questions (will be in notes) in a new file, `terminal.md` in your kwl repo.\n",
       "1. Add a [glossary](https://introcompsys.github.io/spring2022/resources/glossary.html) to the site to define a term or [cheatsheet](https://introcompsys.github.io/spring2022/resources/cheatsheet.html) entry  to describe a command that we have used so far.\n",
       "1. Examine a large project you have done or by finding an open source project on GitHub.  Answer the reflection questions in `software.md` in your kwl repo. (will be in notes)\n"
      ],
      "text/plain": [
       "<IPython.core.display.Markdown object>"
      ]
     },
     "metadata": {},
     "output_type": "display_data"
    },
    {
     "data": {
      "text/markdown": [
       "[2022-02-08](../notes/2022-02-08)"
      ],
      "text/plain": [
       "<IPython.core.display.Markdown object>"
      ]
     },
     "metadata": {},
     "output_type": "display_data"
    },
    {
     "data": {
      "text/markdown": [
       "1. [install h/w simulator](https://www.nand2tetris.org/software)\n",
       "1. Add a glossary, cheatsheet entry, or historical context/facts about the things we have learned to the site.\n",
       "1. Review past classes prep/more practice and catchup if appropriate\n",
       "1. Map out how you think about data moving through a small program using the levels of abstraction. Add this to a markdown table in your KWL chart repo called `abstraction.md`. If you prefer a different format than a table, that is okay, but put it in your KWL repo. It is okay if you are not sure, the goal is to think through this.\n"
      ],
      "text/plain": [
       "<IPython.core.display.Markdown object>"
      ]
     },
     "metadata": {},
     "output_type": "display_data"
    },
    {
     "data": {
      "text/markdown": [
       "[2022-02-10](../notes/2022-02-10)"
      ],
      "text/plain": [
       "<IPython.core.display.Markdown object>"
      ]
     },
     "metadata": {},
     "output_type": "display_data"
    },
    {
     "data": {
      "text/markdown": [
       "1. Read these notes and practice with the hardware simulator, try to understand its assembly and walk through what other steps happen.  Make notes on what you want to remember most or had the most trouble with in `hardwaresurvey.md`\n",
       "1. Review and update your listing of how data moves through a program in your `abstraction.md`.  Answer reflection questions below.\n",
       "1. Review the commit history and git blame of a repo in browser- what must be in the .git directory for GitHub to render all of that information? (be prepared to discuss this in class)\n",
       "1. Fill in the Know and Want to know columns for the new KWL chart rows below.\n",
       "1. Begin your [grading contract](https://classroom.github.com/a/qBKaxi-z), bring questions to class Tuesday.\n"
      ],
      "text/plain": [
       "<IPython.core.display.Markdown object>"
      ]
     },
     "metadata": {},
     "output_type": "display_data"
    },
    {
     "data": {
      "text/markdown": [
       "[2022-02-15](../notes/2022-02-15)"
      ],
      "text/plain": [
       "<IPython.core.display.Markdown object>"
      ]
     },
     "metadata": {},
     "output_type": "display_data"
    },
    {
     "data": {
      "text/markdown": [
       "1. <i class=\"fa-solid fa-circle-exclamation\"></i> review the notes and ensure that you have a new, empty repository named test with its branch renamed to main from master.\n",
       "1.  <i class=\"fa-solid fa-circle-exclamation\"></i> Add the following to your kwl:\n",
       "\n",
       "    ```\n",
       "    |git workflows | _ | _ | _ |\n",
       "    | git branches | _ | _ | _ |\n",
       "    | bash redirects | _ | _ | _ |\n",
       "    ```\n",
       "1. Practice with git log and redirects to write the commit history for your kwl chart to a file gitlog.txt and commit that file to your repo.\n"
      ],
      "text/plain": [
       "<IPython.core.display.Markdown object>"
      ]
     },
     "metadata": {},
     "output_type": "display_data"
    },
    {
     "data": {
      "text/markdown": [
       "[2022-02-17](../notes/2022-02-17)"
      ],
      "text/plain": [
       "<IPython.core.display.Markdown object>"
      ]
     },
     "metadata": {},
     "output_type": "display_data"
    },
    {
     "data": {
      "text/markdown": [
       "1. Review the notes\n",
       "1. For the core \"Porcelain\" git commands we have used (add, commit), make a table of which git plumbing commands they use in `gitplumbing.md` in your KWL repo\n",
       "1. In a `gitunderstanding.md` list 3-5 items from the following categories (1) things you have had trouble with in git in the past and how they relate to your new understandign (b) things that your understanding has changed based on today's class (c) things about git you still have questions about\n",
       "1. Make notes on *how* you use IDEs for the next week or so using the template `idethoughts.md` file in the course notes.\n"
      ],
      "text/plain": [
       "<IPython.core.display.Markdown object>"
      ]
     },
     "metadata": {},
     "output_type": "display_data"
    },
    {
     "data": {
      "text/markdown": [
       "[2022-02-22](../notes/2022-02-22)"
      ],
      "text/plain": [
       "<IPython.core.display.Markdown object>"
      ]
     },
     "metadata": {},
     "output_type": "display_data"
    },
    {
     "data": {
      "text/markdown": [
       "\n",
       "1. review the past two classes of notes\n",
       "1. find 3 more examples of using other number systems, list them in `numbers.md`\n",
       "1. Read about [hexpeak](https://en.wikipedia.org/wiki/Hexspeak) from Wikipedia for an overview and one additional source. In your kwl repo in `hexspeak.md` summarize it in your own words, one interesting fact from your additional source and link to the source you found. Come up with a word or two on your own.\n",
       "1. (priority) Bring to class a scenario where you think git could help, but we haven't covered yet how to do it. (be prepared to post it to Prismia at the start of class)\n"
      ],
      "text/plain": [
       "<IPython.core.display.Markdown object>"
      ]
     },
     "metadata": {},
     "output_type": "display_data"
    },
    {
     "data": {
      "text/markdown": [
       "[2022-02-24](../notes/2022-02-24)"
      ],
      "text/plain": [
       "<IPython.core.display.Markdown object>"
      ]
     },
     "metadata": {},
     "output_type": "display_data"
    },
    {
     "data": {
      "text/markdown": [
       "1. Check that jupyter book is installed on your computer [and the windows advice](https://jupyterbook.org/advanced/windows.html#working-on-windows)\n",
       "1. Fix any open PRs you have that need to be rebased.\n",
       "1. In your github in class repo, create a series of commits that tell as story of how you might have made a mistake and fixed it. Use git log and redirects to write that log to a file, `gitstory.md` in your KWL repo and then annotate your story to add in any narrative that didn't fit in the commit messages. This could be that you made a mistake in your code and used git to recover or that you got your git database to an undesirable state and got it back on track.\n"
      ],
      "text/plain": [
       "<IPython.core.display.Markdown object>"
      ]
     },
     "metadata": {},
     "output_type": "display_data"
    },
    {
     "data": {
      "text/markdown": [
       "[2022-03-01](../notes/2022-03-01)"
      ],
      "text/plain": [
       "<IPython.core.display.Markdown object>"
      ]
     },
     "metadata": {},
     "output_type": "display_data"
    },
    {
     "data": {
      "text/markdown": [
       "1. review the notes\n",
       "1. (priority) Convert your KWL repo to a jupyter book. Ignore the builds from your reposiotry. Use the documenation to choose your settings: link it to your repo, do not serve it publicly on github. Be sure that it can build and if you encounter problems, create a `jupyterbooktroubleshooting.md` file and log them with solutions if you find them.\n",
       "1. complete [Feedback](https://forms.gle/QMmR4hNjyi2dctAY9) survey if you have not alredy.\n"
      ],
      "text/plain": [
       "<IPython.core.display.Markdown object>"
      ]
     },
     "metadata": {},
     "output_type": "display_data"
    }
   ],
   "source": [
    "for prep_file in prep_file_list:\n",
    "    date_str = prep_file[:-3]\n",
    "    date_link = '[' + date_str + '](../notes/' + date_str + ')'\n",
    "    display(Markdown(date_link))\n",
    "    display(Markdown('../_prepare/' + prep_file))"
   ]
  }
 ],
 "metadata": {
  "jupytext": {
   "text_representation": {
    "extension": ".md",
    "format_name": "myst",
    "format_version": 0.13,
    "jupytext_version": "1.10.3"
   }
  },
  "kernelspec": {
   "display_name": "Python 3",
   "language": "python",
   "name": "python3"
  },
  "language_info": {
   "codemirror_mode": {
    "name": "ipython",
    "version": 3
   },
   "file_extension": ".py",
   "mimetype": "text/x-python",
   "name": "python",
   "nbconvert_exporter": "python",
   "pygments_lexer": "ipython3",
   "version": "3.7.12"
  },
  "source_map": [
   12,
   22,
   32
  ]
 },
 "nbformat": 4,
 "nbformat_minor": 5
}